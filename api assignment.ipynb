{
 "cells": [
  {
   "cell_type": "markdown",
   "id": "3e78b485-dd8f-46ea-bee7-2f3eade1d41d",
   "metadata": {},
   "source": [
    "Q1. What is an API? Give an example, where an API is used in real life.\n",
    "\n",
    "Ans \n",
    "API stands for Application Programing Interface . it is set of rules and protocols that allows different software application to comminicate with each other APIs define the methods and data format that application can use and exchange informations . APIs are essential for enabling the integration different services and systems \n",
    "\n",
    "\n",
    "One example is google map that is used in real life with Google map APi. The google map api allow developer to integrate google map in own application and provide a way for user to ineract with the map and acess loction based data"
   ]
  },
  {
   "cell_type": "markdown",
   "id": "dcf03d79-e788-4aa5-8ea8-ac05fde93ed6",
   "metadata": {},
   "source": [
    "Q2. Give advantages and disadvantages of using API\n",
    "\n",
    "Ans \n",
    "\n",
    "Adavantage \n",
    "\n",
    "1 . increase efficency\n",
    "\n",
    "2.  Reducedevelopment time \n",
    "\n",
    "3.  improved user experience \n",
    "\n",
    "Disadvantage \n",
    "\n",
    "1. comlexity \n",
    "\n",
    "2. securuty risks\n",
    "\n",
    "3. reliablity "
   ]
  },
  {
   "cell_type": "markdown",
   "id": "82ed4407-8285-4efb-ad41-97826f39445e",
   "metadata": {},
   "source": [
    "Q3. What is a Web API? Differentiate between API and Web API.\n",
    "\n",
    "Ans \n",
    "\n",
    "Web API is a specific type of API that is designed to be accessible over the internet using standard web protocols like HTTP. Web APIs are typically used for data exchange and interaction between a client application (such as a web application or mobile app) and a server. They allow for the retrieval of data, the execution of specific operations, or the exchange of information using HTTP requests. Web APIs are often used for building web services and facilitating communication between web applications and external systems.\n",
    "\n",
    "API is a more general term encompassing various methods of software communication, Web API is a specialized type of API used for internet-based communication, particularly over the HTTP protocol. Web APIs are commonly used in web development for accessing and exchanging data with remote services or servers."
   ]
  },
  {
   "cell_type": "markdown",
   "id": "b2a86fd1-2a3e-47e4-8971-f7a153336ea5",
   "metadata": {},
   "source": [
    "Q4. Explain REST and SOAP Architecture. Mention shortcomings of SOAP.\n",
    "\n",
    "Ans - \n",
    "\n",
    "REST ARCHITECTURE: REST (Representational State Transfer) is an architectural style that\n",
    "\n",
    "uses HTTP protocols to access web services.\n",
    "\n",
    "SOAP ARCHITECTURE: SOAP (Simple Object Access Protocol) is an XML-based messaging protocol that is used to exchange structured information between web services\n",
    "\n",
    "SOAP has several shortcoming, includes:\n",
    "\n",
    "[1.] Complexity.\n",
    "\n",
    "[2.] Overhead.\n",
    "\n",
    "[3.] Limited support for web standards.\n",
    "\n",
    "[4.] Poor performance.\n",
    "\n",
    "[5.] Limited support for mobile devices.\n",
    "\n",
    "[6.) Limited caching."
   ]
  },
  {
   "cell_type": "markdown",
   "id": "71b09d25-a5ba-4c3e-86ed-f1d2b0cd7af0",
   "metadata": {},
   "source": [
    "\n",
    "Q5. Differentiate between REST and SOAP\n",
    "\n",
    "REST is a lightweight, simple, and stateless architecture that uses multiple saata formats. while SOAP is a protocol that uses XML exclusively and is more complex and heavyweight\n",
    "\n",
    "SOAP is a more structured and feature-rich protocol for web services, while REST is a simpler, more flexible architectural style. The choice between them depends on the specific requirements of the application, considering factors like complexity, performance, interoperability, and ease of use."
   ]
  },
  {
   "cell_type": "code",
   "execution_count": null,
   "id": "64cd32f1-5de6-4c6c-862e-30aaf63cc5db",
   "metadata": {},
   "outputs": [],
   "source": []
  }
 ],
 "metadata": {
  "kernelspec": {
   "display_name": "Python 3 (ipykernel)",
   "language": "python",
   "name": "python3"
  },
  "language_info": {
   "codemirror_mode": {
    "name": "ipython",
    "version": 3
   },
   "file_extension": ".py",
   "mimetype": "text/x-python",
   "name": "python",
   "nbconvert_exporter": "python",
   "pygments_lexer": "ipython3",
   "version": "3.10.8"
  }
 },
 "nbformat": 4,
 "nbformat_minor": 5
}
